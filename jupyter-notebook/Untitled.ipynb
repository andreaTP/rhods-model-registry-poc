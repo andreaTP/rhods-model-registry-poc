{
 "cells": [
  {
   "attachments": {},
   "cell_type": "markdown",
   "id": "8a1b2d94-3552-489e-b9a4-7d2852b2be01",
   "metadata": {},
   "source": [
    "# Prepare the Notebook environment:"
   ]
  },
  {
   "cell_type": "code",
   "execution_count": 22,
   "id": "09b1bed1-b315-4e76-b7d9-38ba74682371",
   "metadata": {},
   "outputs": [
    {
     "name": "stdout",
     "output_type": "stream",
     "text": [
      "Requirement already satisfied: pip in /usr/local/lib/python3.11/site-packages (23.1.2)\n",
      "Found existing installation: joblib 1.2.0\n",
      "Uninstalling joblib-1.2.0:\n",
      "  Successfully uninstalled joblib-1.2.0\n",
      "Found existing installation: scikit-learn 0.24.2\n",
      "Uninstalling scikit-learn-0.24.2:\n",
      "  Successfully uninstalled scikit-learn-0.24.2\n",
      "Collecting scikit-learn==0.24.2\n",
      "  Using cached scikit_learn-0.24.2-cp311-cp311-macosx_13_0_x86_64.whl\n",
      "Collecting joblib==1.1.0\n",
      "  Using cached joblib-1.1.0-py2.py3-none-any.whl (306 kB)\n",
      "Requirement already satisfied: numpy>=1.13.3 in /usr/local/lib/python3.11/site-packages (from scikit-learn==0.24.2) (1.24.3)\n",
      "Requirement already satisfied: scipy>=0.19.1 in /usr/local/lib/python3.11/site-packages (from scikit-learn==0.24.2) (1.10.1)\n",
      "Requirement already satisfied: threadpoolctl>=2.0.0 in /usr/local/lib/python3.11/site-packages (from scikit-learn==0.24.2) (3.1.0)\n",
      "Installing collected packages: joblib, scikit-learn\n",
      "Successfully installed joblib-1.1.0 scikit-learn-0.24.2\n",
      "Name: joblib\n",
      "Version: 1.1.0\n",
      "Summary: Lightweight pipelining with Python functions\n",
      "Home-page: https://joblib.readthedocs.io\n",
      "Author: Gael Varoquaux\n",
      "Author-email: gael.varoquaux@normalesup.org\n",
      "License: BSD\n",
      "Location: /usr/local/lib/python3.11/site-packages\n",
      "Requires: \n",
      "Required-by: scikit-learn\n"
     ]
    }
   ],
   "source": [
    "!pip install --upgrade pip\n",
    "!pip uninstall joblib scikit-learn -y\n",
    "!pip install scikit-learn==0.24.2 joblib==1.1.0\n",
    "!pip show joblib"
   ]
  },
  {
   "attachments": {},
   "cell_type": "markdown",
   "id": "11b73ae7-925b-4d4c-b752-8c4e61018252",
   "metadata": {},
   "source": [
    "# Registry setup:\n",
    "\n",
    "[https://registry-external-ref.fly.dev/](https://registry-external-ref.fly.dev/)"
   ]
  },
  {
   "attachments": {},
   "cell_type": "markdown",
   "id": "41775172-5053-46b0-bd30-2f874d85b97d",
   "metadata": {},
   "source": [
    "# External S3:\n",
    "\n",
    "[https://registry-external-ref-minio.fly.dev/](https://registry-external-ref-minio.fly.dev/)"
   ]
  },
  {
   "attachments": {},
   "cell_type": "markdown",
   "id": "f696ac7b-4cce-4ef2-ae00-850cfeab38e4",
   "metadata": {},
   "source": [
    "# Install the Model Registry Python Client:"
   ]
  },
  {
   "cell_type": "code",
   "execution_count": 1,
   "id": "148e134c-0309-4e6d-9f8e-0504a7596dd0",
   "metadata": {},
   "outputs": [
    {
     "name": "stdout",
     "output_type": "stream",
     "text": [
      "Requirement already satisfied: rhods-model-registry-poc in /usr/local/lib/python3.11/site-packages (0.1.5)\n",
      "Collecting rhods-model-registry-poc\n",
      "  Downloading rhods_model_registry_poc-0.1.12-py3-none-any.whl (2.4 kB)\n",
      "Collecting apicurio-registry-python-sdk-preview<3.0.0,>=2.4.14 (from rhods-model-registry-poc)\n",
      "  Downloading apicurio_registry_python_sdk_preview-2.4.14-cp311-cp311-macosx_13_0_x86_64.whl (140 kB)\n",
      "\u001b[2K     \u001b[38;2;114;156;31m━━━━━━━━━━━━━━━━━━━━━━━━━━━━━━━━━━━━━━━\u001b[0m \u001b[32m140.1/140.1 kB\u001b[0m \u001b[31m4.1 MB/s\u001b[0m eta \u001b[36m0:00:00\u001b[0m\n",
      "\u001b[?25hRequirement already satisfied: minio<8.0.0,>=7.1.14 in /usr/local/lib/python3.11/site-packages (from rhods-model-registry-poc) (7.1.14)\n",
      "Requirement already satisfied: microsoft-kiota-abstractions<0.6.0,>=0.5.1 in /usr/local/lib/python3.11/site-packages (from apicurio-registry-python-sdk-preview<3.0.0,>=2.4.14->rhods-model-registry-poc) (0.5.1)\n",
      "Requirement already satisfied: microsoft-kiota-http<0.5.0,>=0.4.1 in /usr/local/lib/python3.11/site-packages (from apicurio-registry-python-sdk-preview<3.0.0,>=2.4.14->rhods-model-registry-poc) (0.4.3)\n",
      "Requirement already satisfied: microsoft-kiota-serialization-json<0.4.0,>=0.3.2 in /usr/local/lib/python3.11/site-packages (from apicurio-registry-python-sdk-preview<3.0.0,>=2.4.14->rhods-model-registry-poc) (0.3.4)\n",
      "Requirement already satisfied: microsoft-kiota-serialization-text<0.3.0,>=0.2.0 in /usr/local/lib/python3.11/site-packages (from apicurio-registry-python-sdk-preview<3.0.0,>=2.4.14->rhods-model-registry-poc) (0.2.0)\n",
      "Requirement already satisfied: certifi in /usr/local/lib/python3.11/site-packages (from minio<8.0.0,>=7.1.14->rhods-model-registry-poc) (2022.12.7)\n",
      "Requirement already satisfied: urllib3 in /usr/local/lib/python3.11/site-packages (from minio<8.0.0,>=7.1.14->rhods-model-registry-poc) (2.0.2)\n",
      "Requirement already satisfied: uritemplate>=4.1.1 in /usr/local/lib/python3.11/site-packages (from microsoft-kiota-abstractions<0.6.0,>=0.5.1->apicurio-registry-python-sdk-preview<3.0.0,>=2.4.14->rhods-model-registry-poc) (4.1.1)\n",
      "Requirement already satisfied: httpx[http2]>=0.23.0 in /usr/local/lib/python3.11/site-packages (from microsoft-kiota-http<0.5.0,>=0.4.1->apicurio-registry-python-sdk-preview<3.0.0,>=2.4.14->rhods-model-registry-poc) (0.24.0)\n",
      "Requirement already satisfied: python-dateutil>=2.8.2 in /usr/local/lib/python3.11/site-packages (from microsoft-kiota-serialization-json<0.4.0,>=0.3.2->apicurio-registry-python-sdk-preview<3.0.0,>=2.4.14->rhods-model-registry-poc) (2.8.2)\n",
      "Requirement already satisfied: httpcore<0.18.0,>=0.15.0 in /usr/local/lib/python3.11/site-packages (from httpx[http2]>=0.23.0->microsoft-kiota-http<0.5.0,>=0.4.1->apicurio-registry-python-sdk-preview<3.0.0,>=2.4.14->rhods-model-registry-poc) (0.17.1)\n",
      "Requirement already satisfied: idna in /usr/local/lib/python3.11/site-packages (from httpx[http2]>=0.23.0->microsoft-kiota-http<0.5.0,>=0.4.1->apicurio-registry-python-sdk-preview<3.0.0,>=2.4.14->rhods-model-registry-poc) (3.4)\n",
      "Requirement already satisfied: sniffio in /usr/local/lib/python3.11/site-packages (from httpx[http2]>=0.23.0->microsoft-kiota-http<0.5.0,>=0.4.1->apicurio-registry-python-sdk-preview<3.0.0,>=2.4.14->rhods-model-registry-poc) (1.3.0)\n",
      "Requirement already satisfied: h2<5,>=3 in /usr/local/lib/python3.11/site-packages (from httpx[http2]>=0.23.0->microsoft-kiota-http<0.5.0,>=0.4.1->apicurio-registry-python-sdk-preview<3.0.0,>=2.4.14->rhods-model-registry-poc) (4.1.0)\n",
      "Requirement already satisfied: six>=1.5 in /usr/local/lib/python3.11/site-packages (from python-dateutil>=2.8.2->microsoft-kiota-serialization-json<0.4.0,>=0.3.2->apicurio-registry-python-sdk-preview<3.0.0,>=2.4.14->rhods-model-registry-poc) (1.16.0)\n",
      "Requirement already satisfied: hyperframe<7,>=6.0 in /usr/local/lib/python3.11/site-packages (from h2<5,>=3->httpx[http2]>=0.23.0->microsoft-kiota-http<0.5.0,>=0.4.1->apicurio-registry-python-sdk-preview<3.0.0,>=2.4.14->rhods-model-registry-poc) (6.0.1)\n",
      "Requirement already satisfied: hpack<5,>=4.0 in /usr/local/lib/python3.11/site-packages (from h2<5,>=3->httpx[http2]>=0.23.0->microsoft-kiota-http<0.5.0,>=0.4.1->apicurio-registry-python-sdk-preview<3.0.0,>=2.4.14->rhods-model-registry-poc) (4.0.0)\n",
      "Requirement already satisfied: h11<0.15,>=0.13 in /usr/local/lib/python3.11/site-packages (from httpcore<0.18.0,>=0.15.0->httpx[http2]>=0.23.0->microsoft-kiota-http<0.5.0,>=0.4.1->apicurio-registry-python-sdk-preview<3.0.0,>=2.4.14->rhods-model-registry-poc) (0.14.0)\n",
      "Requirement already satisfied: anyio<5.0,>=3.0 in /usr/local/lib/python3.11/site-packages (from httpcore<0.18.0,>=0.15.0->httpx[http2]>=0.23.0->microsoft-kiota-http<0.5.0,>=0.4.1->apicurio-registry-python-sdk-preview<3.0.0,>=2.4.14->rhods-model-registry-poc) (3.6.2)\n",
      "Installing collected packages: apicurio-registry-python-sdk-preview, rhods-model-registry-poc\n",
      "  Attempting uninstall: apicurio-registry-python-sdk-preview\n",
      "    Found existing installation: apicurio-registry-python-sdk-preview 2.4.13\n",
      "    Uninstalling apicurio-registry-python-sdk-preview-2.4.13:\n",
      "      Successfully uninstalled apicurio-registry-python-sdk-preview-2.4.13\n",
      "  Attempting uninstall: rhods-model-registry-poc\n",
      "    Found existing installation: rhods-model-registry-poc 0.1.5\n",
      "    Uninstalling rhods-model-registry-poc-0.1.5:\n",
      "      Successfully uninstalled rhods-model-registry-poc-0.1.5\n",
      "Successfully installed apicurio-registry-python-sdk-preview-2.4.14 rhods-model-registry-poc-0.1.12\n"
     ]
    }
   ],
   "source": [
    "!pip install --upgrade rhods-model-registry-poc"
   ]
  },
  {
   "attachments": {},
   "cell_type": "markdown",
   "id": "c0a7774d-3649-4eea-b636-0ff9390fb156",
   "metadata": {},
   "source": [
    "# Define and train a model:"
   ]
  },
  {
   "cell_type": "code",
   "execution_count": 23,
   "id": "ae39cfd5-8f55-44d2-b997-830b4f744ae4",
   "metadata": {},
   "outputs": [
    {
     "data": {
      "image/png": "[encoded data removed]",
      "text/plain": [
       "<Figure size 640x480 with 1 Axes>"
      ]
     },
     "metadata": {},
     "output_type": "display_data"
    },
    {
     "data": {
      "text/plain": [
       "<sklearn.metrics._plot.confusion_matrix.ConfusionMatrixDisplay at 0x13bb26c10>"
      ]
     },
     "execution_count": 23,
     "metadata": {},
     "output_type": "execute_result"
    },
    {
     "data": {
      "image/png": "[encoded data removed]",
      "text/plain": [
       "<Figure size 640x480 with 2 Axes>"
      ]
     },
     "metadata": {},
     "output_type": "display_data"
    }
   ],
   "source": [
    "import numpy as np\n",
    "from sklearn.svm import SVC\n",
    "\n",
    "X = np.array([[0, 0], [10, 10], [20, 20], [30, 30]])\n",
    "y = np.array([0, 100, 20, 30])\n",
    "clf = SVC()\n",
    "clf.fit(X, y)\n",
    "\n",
    "# store the model\n",
    "import joblib\n",
    "joblib.dump(clf, 'example.joblib')\n",
    "\n",
    "# plot the visualization\n",
    "import matplotlib.pyplot as plt\n",
    "\n",
    "plt.scatter([0, 10, 20, 30], [0, 10, 20, 30], color=\"black\")\n",
    "plt.plot(X, y, color=\"blue\", linewidth=1)\n",
    "\n",
    "plt.xticks([0, 10, 20, 30])\n",
    "plt.yticks([0, 10, 20, 30])\n",
    "\n",
    "plt.show()\n",
    "\n",
    "from sklearn.metrics import plot_confusion_matrix\n",
    "plot_confusion_matrix(clf, X, y)"
   ]
  },
  {
   "attachments": {},
   "cell_type": "markdown",
   "id": "545cc18f-0108-4086-af00-32ef8306ffa0",
   "metadata": {},
   "source": [
    "# Upload a model to Registry:"
   ]
  },
  {
   "cell_type": "code",
   "execution_count": 24,
   "id": "970d9450-d33b-4932-b6a0-0ccc05843db0",
   "metadata": {},
   "outputs": [
    {
     "data": {
      "text/plain": [
       "'cd799d9e-b5c1-4d81-a81e-a7a05f7c1f65'"
      ]
     },
     "execution_count": 24,
     "metadata": {},
     "output_type": "execute_result"
    }
   ],
   "source": [
    "import os\n",
    "import sys\n",
    "from model_registry_python_sdk.client import ModelRegistryClient\n",
    "\n",
    "client = ModelRegistryClient()\n",
    "await client.register_model(\"example.joblib\", os.path.join(sys.path[0], \"example.joblib\"),\n",
    "    \"my fantastic description\",\n",
    "    {\n",
    "      \"framework\": \"scikit-learn\",\n",
    "      \"tag\": \"experimental\",\n",
    "      \"creator\": \"andreaTP\",\n",
    "      \"link\": \"https://huggingface.co/NimaBoscarino/evaluate-test\"\n",
    "    }, [\"staging\", \"validate\"])"
   ]
  },
  {
   "attachments": {},
   "cell_type": "markdown",
   "id": "76510aa3-12fb-420a-bf7b-a5370a4dbd0a",
   "metadata": {},
   "source": [
    "# Deploy the model using ModelMesh:"
   ]
  },
  {
   "cell_type": "code",
   "execution_count": 18,
   "id": "89f0215a-fa47-47f5-97f6-c5faa0c6889c",
   "metadata": {},
   "outputs": [
    {
     "data": {
      "text/html": [
       "\n",
       "        <iframe\n",
       "            width=\"1400\"\n",
       "            height=\"400\"\n",
       "            src=\"http://localhost:3000/wetty/ssh/aperuffo\"\n",
       "            frameborder=\"0\"\n",
       "            allowfullscreen\n",
       "            \n",
       "        ></iframe>\n",
       "        "
      ],
      "text/plain": [
       "<IPython.lib.display.IFrame at 0x13bca6790>"
      ]
     },
     "execution_count": 18,
     "metadata": {},
     "output_type": "execute_result"
    }
   ],
   "source": [
    "from IPython.display import IFrame\n",
    "IFrame('http://localhost:3000/wetty/ssh/aperuffo', width=1400, height=400)\n",
    "\n",
    "# cd /Users/aperuffo/workspace/rhods-model-registry-poc/sync-operator/src/main/resources/examples"
   ]
  },
  {
   "attachments": {},
   "cell_type": "markdown",
   "id": "44cb5273-01f4-41f0-922f-9b0fbf2521a3",
   "metadata": {},
   "source": [
    "# Run predictions:"
   ]
  },
  {
   "cell_type": "code",
   "execution_count": 11,
   "id": "09333c60-7209-4af7-9f73-d59d48718979",
   "metadata": {},
   "outputs": [],
   "source": [
    "# curl 'http://localhost:8008/v2/models/simple-latest/infer' \\\n",
    "#   --data-raw '{\"model_name\":\"basic\",\"inputs\":[{\"name\":\"predict\",\"shape\":[1,2],\"datatype\":\"FP32\",\"data\":[[\"0\",\"0\"]]}]}'"
   ]
  },
  {
   "cell_type": "code",
   "execution_count": 21,
   "id": "8dee99a3-aae8-45de-a381-769dde1279ed",
   "metadata": {},
   "outputs": [
    {
     "data": {
      "text/html": [
       "\n",
       "        <iframe\n",
       "            width=\"700\"\n",
       "            height=\"150\"\n",
       "            src=\"http://localhost:8000\"\n",
       "            frameborder=\"0\"\n",
       "            allowfullscreen\n",
       "            \n",
       "        ></iframe>\n",
       "        "
      ],
      "text/plain": [
       "<IPython.lib.display.IFrame at 0x13bcb0950>"
      ]
     },
     "execution_count": 21,
     "metadata": {},
     "output_type": "execute_result"
    }
   ],
   "source": [
    "from IPython.display import IFrame\n",
    "IFrame('http://localhost:8000', width=700, height=150)"
   ]
  }
 ],
 "metadata": {
  "kernelspec": {
   "display_name": "Python 3 (ipykernel)",
   "language": "python",
   "name": "python3"
  },
  "language_info": {
   "codemirror_mode": {
    "name": "ipython",
    "version": 3
   },
   "file_extension": ".py",
   "mimetype": "text/x-python",
   "name": "python",
   "nbconvert_exporter": "python",
   "pygments_lexer": "ipython3",
   "version": "3.11.3"
  }
 },
 "nbformat": 4,
 "nbformat_minor": 5
}
