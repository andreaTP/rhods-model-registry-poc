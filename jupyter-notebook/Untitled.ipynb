{
 "cells": [
  {
   "cell_type": "code",
   "execution_count": 2,
   "id": "5dde5299-7c83-44a4-ac18-c69314f8f3d5",
   "metadata": {},
   "outputs": [
    {
     "name": "stdout",
     "output_type": "stream",
     "text": [
      "Requirement already satisfied: pip in /usr/local/lib/python3.11/site-packages (22.3.1)\n",
      "Collecting pip\n",
      "  Using cached pip-23.1.2-py3-none-any.whl (2.1 MB)\n",
      "Installing collected packages: pip\n",
      "  Attempting uninstall: pip\n",
      "    Found existing installation: pip 22.3.1\n",
      "    Uninstalling pip-22.3.1:\n",
      "      Successfully uninstalled pip-22.3.1\n",
      "Successfully installed pip-23.1.2\n",
      "Note: you may need to restart the kernel to use updated packages.\n"
     ]
    }
   ],
   "source": [
    "pip install --upgrade pip"
   ]
  },
  {
   "cell_type": "code",
   "execution_count": 3,
   "id": "76f16d0b-529c-414d-8e7c-cfaeefa2eaf9",
   "metadata": {},
   "outputs": [
    {
     "name": "stdout",
     "output_type": "stream",
     "text": [
      "Collecting rhods-model-registry-poc\n",
      "  Downloading rhods_model_registry_poc-0.1.5-py3-none-any.whl (2.3 kB)\n",
      "Collecting apicurio-registry-python-sdk-preview<3.0.0,>=2.4.9 (from rhods-model-registry-poc)\n",
      "  Downloading apicurio_registry_python_sdk_preview-2.4.13-cp311-cp311-macosx_13_0_x86_64.whl (140 kB)\n",
      "\u001b[2K     \u001b[38;2;114;156;31m━━━━━━━━━━━━━━━━━━━━━━━━━━━━━━━━━━━━━━━\u001b[0m \u001b[32m140.1/140.1 kB\u001b[0m \u001b[31m3.7 MB/s\u001b[0m eta \u001b[36m0:00:00\u001b[0m\n",
      "\u001b[?25hCollecting minio<8.0.0,>=7.1.14 (from rhods-model-registry-poc)\n",
      "  Downloading minio-7.1.14-py3-none-any.whl (77 kB)\n",
      "\u001b[2K     \u001b[38;2;114;156;31m━━━━━━━━━━━━━━━━━━━━━━━━━━━━━━━━━━━━━━━━\u001b[0m \u001b[32m77.2/77.2 kB\u001b[0m \u001b[31m3.0 MB/s\u001b[0m eta \u001b[36m0:00:00\u001b[0m\n",
      "\u001b[?25hCollecting microsoft-kiota-abstractions<0.6.0,>=0.5.1 (from apicurio-registry-python-sdk-preview<3.0.0,>=2.4.9->rhods-model-registry-poc)\n",
      "  Downloading microsoft_kiota_abstractions-0.5.1-py2.py3-none-any.whl (30 kB)\n",
      "Collecting microsoft-kiota-http<0.5.0,>=0.4.1 (from apicurio-registry-python-sdk-preview<3.0.0,>=2.4.9->rhods-model-registry-poc)\n",
      "  Downloading microsoft_kiota_http-0.4.3-py2.py3-none-any.whl (19 kB)\n",
      "Collecting microsoft-kiota-serialization-json<0.4.0,>=0.3.2 (from apicurio-registry-python-sdk-preview<3.0.0,>=2.4.9->rhods-model-registry-poc)\n",
      "  Downloading microsoft_kiota_serialization_json-0.3.4-py2.py3-none-any.whl (9.8 kB)\n",
      "Collecting microsoft-kiota-serialization-text<0.3.0,>=0.2.0 (from apicurio-registry-python-sdk-preview<3.0.0,>=2.4.9->rhods-model-registry-poc)\n",
      "  Downloading microsoft_kiota_serialization_text-0.2.0-py2.py3-none-any.whl (8.5 kB)\n",
      "Requirement already satisfied: certifi in /usr/local/lib/python3.11/site-packages (from minio<8.0.0,>=7.1.14->rhods-model-registry-poc) (2022.12.7)\n",
      "Requirement already satisfied: urllib3 in /usr/local/lib/python3.11/site-packages (from minio<8.0.0,>=7.1.14->rhods-model-registry-poc) (2.0.2)\n",
      "Collecting uritemplate>=4.1.1 (from microsoft-kiota-abstractions<0.6.0,>=0.5.1->apicurio-registry-python-sdk-preview<3.0.0,>=2.4.9->rhods-model-registry-poc)\n",
      "  Downloading uritemplate-4.1.1-py2.py3-none-any.whl (10 kB)\n",
      "Collecting httpx[http2]>=0.23.0 (from microsoft-kiota-http<0.5.0,>=0.4.1->apicurio-registry-python-sdk-preview<3.0.0,>=2.4.9->rhods-model-registry-poc)\n",
      "  Downloading httpx-0.24.0-py3-none-any.whl (75 kB)\n",
      "\u001b[2K     \u001b[38;2;114;156;31m━━━━━━━━━━━━━━━━━━━━━━━━━━━━━━━━━━━━━━━━\u001b[0m \u001b[32m75.3/75.3 kB\u001b[0m \u001b[31m2.9 MB/s\u001b[0m eta \u001b[36m0:00:00\u001b[0m\n",
      "\u001b[?25hRequirement already satisfied: python-dateutil>=2.8.2 in /usr/local/lib/python3.11/site-packages (from microsoft-kiota-serialization-json<0.4.0,>=0.3.2->apicurio-registry-python-sdk-preview<3.0.0,>=2.4.9->rhods-model-registry-poc) (2.8.2)\n",
      "Collecting httpcore<0.18.0,>=0.15.0 (from httpx[http2]>=0.23.0->microsoft-kiota-http<0.5.0,>=0.4.1->apicurio-registry-python-sdk-preview<3.0.0,>=2.4.9->rhods-model-registry-poc)\n",
      "  Downloading httpcore-0.17.1-py3-none-any.whl (70 kB)\n",
      "\u001b[2K     \u001b[38;2;114;156;31m━━━━━━━━━━━━━━━━━━━━━━━━━━━━━━━━━━━━━━━━\u001b[0m \u001b[32m70.9/70.9 kB\u001b[0m \u001b[31m2.8 MB/s\u001b[0m eta \u001b[36m0:00:00\u001b[0m\n",
      "\u001b[?25hRequirement already satisfied: idna in /usr/local/lib/python3.11/site-packages (from httpx[http2]>=0.23.0->microsoft-kiota-http<0.5.0,>=0.4.1->apicurio-registry-python-sdk-preview<3.0.0,>=2.4.9->rhods-model-registry-poc) (3.4)\n",
      "Requirement already satisfied: sniffio in /usr/local/lib/python3.11/site-packages (from httpx[http2]>=0.23.0->microsoft-kiota-http<0.5.0,>=0.4.1->apicurio-registry-python-sdk-preview<3.0.0,>=2.4.9->rhods-model-registry-poc) (1.3.0)\n",
      "Collecting h2<5,>=3 (from httpx[http2]>=0.23.0->microsoft-kiota-http<0.5.0,>=0.4.1->apicurio-registry-python-sdk-preview<3.0.0,>=2.4.9->rhods-model-registry-poc)\n",
      "  Downloading h2-4.1.0-py3-none-any.whl (57 kB)\n",
      "\u001b[2K     \u001b[38;2;114;156;31m━━━━━━━━━━━━━━━━━━━━━━━━━━━━━━━━━━━━━━━━\u001b[0m \u001b[32m57.5/57.5 kB\u001b[0m \u001b[31m2.1 MB/s\u001b[0m eta \u001b[36m0:00:00\u001b[0m\n",
      "\u001b[?25hRequirement already satisfied: six>=1.5 in /usr/local/lib/python3.11/site-packages (from python-dateutil>=2.8.2->microsoft-kiota-serialization-json<0.4.0,>=0.3.2->apicurio-registry-python-sdk-preview<3.0.0,>=2.4.9->rhods-model-registry-poc) (1.16.0)\n",
      "Collecting hyperframe<7,>=6.0 (from h2<5,>=3->httpx[http2]>=0.23.0->microsoft-kiota-http<0.5.0,>=0.4.1->apicurio-registry-python-sdk-preview<3.0.0,>=2.4.9->rhods-model-registry-poc)\n",
      "  Downloading hyperframe-6.0.1-py3-none-any.whl (12 kB)\n",
      "Collecting hpack<5,>=4.0 (from h2<5,>=3->httpx[http2]>=0.23.0->microsoft-kiota-http<0.5.0,>=0.4.1->apicurio-registry-python-sdk-preview<3.0.0,>=2.4.9->rhods-model-registry-poc)\n",
      "  Downloading hpack-4.0.0-py3-none-any.whl (32 kB)\n",
      "Collecting h11<0.15,>=0.13 (from httpcore<0.18.0,>=0.15.0->httpx[http2]>=0.23.0->microsoft-kiota-http<0.5.0,>=0.4.1->apicurio-registry-python-sdk-preview<3.0.0,>=2.4.9->rhods-model-registry-poc)\n",
      "  Downloading h11-0.14.0-py3-none-any.whl (58 kB)\n",
      "\u001b[2K     \u001b[38;2;114;156;31m━━━━━━━━━━━━━━━━━━━━━━━━━━━━━━━━━━━━━━━━\u001b[0m \u001b[32m58.3/58.3 kB\u001b[0m \u001b[31m2.1 MB/s\u001b[0m eta \u001b[36m0:00:00\u001b[0m\n",
      "\u001b[?25hRequirement already satisfied: anyio<5.0,>=3.0 in /usr/local/lib/python3.11/site-packages (from httpcore<0.18.0,>=0.15.0->httpx[http2]>=0.23.0->microsoft-kiota-http<0.5.0,>=0.4.1->apicurio-registry-python-sdk-preview<3.0.0,>=2.4.9->rhods-model-registry-poc) (3.6.2)\n",
      "Installing collected packages: uritemplate, minio, hyperframe, hpack, h11, microsoft-kiota-abstractions, httpcore, h2, microsoft-kiota-serialization-text, microsoft-kiota-serialization-json, httpx, microsoft-kiota-http, apicurio-registry-python-sdk-preview, rhods-model-registry-poc\n",
      "Successfully installed apicurio-registry-python-sdk-preview-2.4.13 h11-0.14.0 h2-4.1.0 hpack-4.0.0 httpcore-0.17.1 httpx-0.24.0 hyperframe-6.0.1 microsoft-kiota-abstractions-0.5.1 microsoft-kiota-http-0.4.3 microsoft-kiota-serialization-json-0.3.4 microsoft-kiota-serialization-text-0.2.0 minio-7.1.14 rhods-model-registry-poc-0.1.5 uritemplate-4.1.1\n"
     ]
    }
   ],
   "source": [
    "# Install a pip package in the current Jupyter kernel\n",
    "import sys\n",
    "!{sys.executable} -m pip install --upgrade rhods-model-registry-poc"
   ]
  },
  {
   "cell_type": "code",
   "execution_count": 5,
   "id": "280a7a00-cb92-45a4-aae8-47a4e5475f06",
   "metadata": {},
   "outputs": [
    {
     "data": {
      "text/plain": [
       "True"
      ]
     },
     "execution_count": 5,
     "metadata": {},
     "output_type": "execute_result"
    }
   ],
   "source": [
    "import os\n",
    "from model_registry_python_sdk.client import ModelRegistryClient\n",
    "\n",
    "client = ModelRegistryClient()\n",
    "await client.register_model(\"my-notebook-model\", os.path.join(sys.path[0], \"example-file.txt\"))"
   ]
  }
 ],
 "metadata": {
  "kernelspec": {
   "display_name": "Python 3 (ipykernel)",
   "language": "python",
   "name": "python3"
  },
  "language_info": {
   "codemirror_mode": {
    "name": "ipython",
    "version": 3
   },
   "file_extension": ".py",
   "mimetype": "text/x-python",
   "name": "python",
   "nbconvert_exporter": "python",
   "pygments_lexer": "ipython3",
   "version": "3.11.2"
  }
 },
 "nbformat": 4,
 "nbformat_minor": 5
}
