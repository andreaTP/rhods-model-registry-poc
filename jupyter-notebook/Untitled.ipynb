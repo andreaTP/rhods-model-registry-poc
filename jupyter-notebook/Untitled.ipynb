{
 "cells": [
  {
   "cell_type": "code",
   "execution_count": 1,
   "id": "5dde5299-7c83-44a4-ac18-c69314f8f3d5",
   "metadata": {},
   "outputs": [
    {
     "name": "stdout",
     "output_type": "stream",
     "text": [
      "Requirement already satisfied: pip in /usr/local/lib/python3.11/site-packages (23.1.2)\n",
      "Note: you may need to restart the kernel to use updated packages.\n"
     ]
    }
   ],
   "source": [
    "pip install --upgrade pip"
   ]
  },
  {
   "cell_type": "code",
   "execution_count": 2,
   "id": "76f16d0b-529c-414d-8e7c-cfaeefa2eaf9",
   "metadata": {},
   "outputs": [
    {
     "name": "stdout",
     "output_type": "stream",
     "text": [
      "Requirement already satisfied: rhods-model-registry-poc in /usr/local/lib/python3.11/site-packages (0.1.5)\n",
      "Requirement already satisfied: apicurio-registry-python-sdk-preview<3.0.0,>=2.4.9 in /usr/local/lib/python3.11/site-packages (from rhods-model-registry-poc) (2.4.13)\n",
      "Requirement already satisfied: minio<8.0.0,>=7.1.14 in /usr/local/lib/python3.11/site-packages (from rhods-model-registry-poc) (7.1.14)\n",
      "Requirement already satisfied: microsoft-kiota-abstractions<0.6.0,>=0.5.1 in /usr/local/lib/python3.11/site-packages (from apicurio-registry-python-sdk-preview<3.0.0,>=2.4.9->rhods-model-registry-poc) (0.5.1)\n",
      "Requirement already satisfied: microsoft-kiota-http<0.5.0,>=0.4.1 in /usr/local/lib/python3.11/site-packages (from apicurio-registry-python-sdk-preview<3.0.0,>=2.4.9->rhods-model-registry-poc) (0.4.3)\n",
      "Requirement already satisfied: microsoft-kiota-serialization-json<0.4.0,>=0.3.2 in /usr/local/lib/python3.11/site-packages (from apicurio-registry-python-sdk-preview<3.0.0,>=2.4.9->rhods-model-registry-poc) (0.3.4)\n",
      "Requirement already satisfied: microsoft-kiota-serialization-text<0.3.0,>=0.2.0 in /usr/local/lib/python3.11/site-packages (from apicurio-registry-python-sdk-preview<3.0.0,>=2.4.9->rhods-model-registry-poc) (0.2.0)\n",
      "Requirement already satisfied: certifi in /usr/local/lib/python3.11/site-packages (from minio<8.0.0,>=7.1.14->rhods-model-registry-poc) (2022.12.7)\n",
      "Requirement already satisfied: urllib3 in /usr/local/lib/python3.11/site-packages (from minio<8.0.0,>=7.1.14->rhods-model-registry-poc) (2.0.2)\n",
      "Requirement already satisfied: uritemplate>=4.1.1 in /usr/local/lib/python3.11/site-packages (from microsoft-kiota-abstractions<0.6.0,>=0.5.1->apicurio-registry-python-sdk-preview<3.0.0,>=2.4.9->rhods-model-registry-poc) (4.1.1)\n",
      "Requirement already satisfied: httpx[http2]>=0.23.0 in /usr/local/lib/python3.11/site-packages (from microsoft-kiota-http<0.5.0,>=0.4.1->apicurio-registry-python-sdk-preview<3.0.0,>=2.4.9->rhods-model-registry-poc) (0.24.0)\n",
      "Requirement already satisfied: python-dateutil>=2.8.2 in /usr/local/lib/python3.11/site-packages (from microsoft-kiota-serialization-json<0.4.0,>=0.3.2->apicurio-registry-python-sdk-preview<3.0.0,>=2.4.9->rhods-model-registry-poc) (2.8.2)\n",
      "Requirement already satisfied: httpcore<0.18.0,>=0.15.0 in /usr/local/lib/python3.11/site-packages (from httpx[http2]>=0.23.0->microsoft-kiota-http<0.5.0,>=0.4.1->apicurio-registry-python-sdk-preview<3.0.0,>=2.4.9->rhods-model-registry-poc) (0.17.1)\n",
      "Requirement already satisfied: idna in /usr/local/lib/python3.11/site-packages (from httpx[http2]>=0.23.0->microsoft-kiota-http<0.5.0,>=0.4.1->apicurio-registry-python-sdk-preview<3.0.0,>=2.4.9->rhods-model-registry-poc) (3.4)\n",
      "Requirement already satisfied: sniffio in /usr/local/lib/python3.11/site-packages (from httpx[http2]>=0.23.0->microsoft-kiota-http<0.5.0,>=0.4.1->apicurio-registry-python-sdk-preview<3.0.0,>=2.4.9->rhods-model-registry-poc) (1.3.0)\n",
      "Requirement already satisfied: h2<5,>=3 in /usr/local/lib/python3.11/site-packages (from httpx[http2]>=0.23.0->microsoft-kiota-http<0.5.0,>=0.4.1->apicurio-registry-python-sdk-preview<3.0.0,>=2.4.9->rhods-model-registry-poc) (4.1.0)\n",
      "Requirement already satisfied: six>=1.5 in /usr/local/lib/python3.11/site-packages (from python-dateutil>=2.8.2->microsoft-kiota-serialization-json<0.4.0,>=0.3.2->apicurio-registry-python-sdk-preview<3.0.0,>=2.4.9->rhods-model-registry-poc) (1.16.0)\n",
      "Requirement already satisfied: hyperframe<7,>=6.0 in /usr/local/lib/python3.11/site-packages (from h2<5,>=3->httpx[http2]>=0.23.0->microsoft-kiota-http<0.5.0,>=0.4.1->apicurio-registry-python-sdk-preview<3.0.0,>=2.4.9->rhods-model-registry-poc) (6.0.1)\n",
      "Requirement already satisfied: hpack<5,>=4.0 in /usr/local/lib/python3.11/site-packages (from h2<5,>=3->httpx[http2]>=0.23.0->microsoft-kiota-http<0.5.0,>=0.4.1->apicurio-registry-python-sdk-preview<3.0.0,>=2.4.9->rhods-model-registry-poc) (4.0.0)\n",
      "Requirement already satisfied: h11<0.15,>=0.13 in /usr/local/lib/python3.11/site-packages (from httpcore<0.18.0,>=0.15.0->httpx[http2]>=0.23.0->microsoft-kiota-http<0.5.0,>=0.4.1->apicurio-registry-python-sdk-preview<3.0.0,>=2.4.9->rhods-model-registry-poc) (0.14.0)\n",
      "Requirement already satisfied: anyio<5.0,>=3.0 in /usr/local/lib/python3.11/site-packages (from httpcore<0.18.0,>=0.15.0->httpx[http2]>=0.23.0->microsoft-kiota-http<0.5.0,>=0.4.1->apicurio-registry-python-sdk-preview<3.0.0,>=2.4.9->rhods-model-registry-poc) (3.6.2)\n"
     ]
    }
   ],
   "source": [
    "# Install a pip package in the current Jupyter kernel\n",
    "import sys\n",
    "!{sys.executable} -m pip install --upgrade rhods-model-registry-poc"
   ]
  },
  {
   "cell_type": "code",
   "execution_count": 3,
   "id": "280a7a00-cb92-45a4-aae8-47a4e5475f06",
   "metadata": {},
   "outputs": [
    {
     "data": {
      "text/plain": [
       "True"
      ]
     },
     "execution_count": 3,
     "metadata": {},
     "output_type": "execute_result"
    }
   ],
   "source": [
    "import os\n",
    "from model_registry_python_sdk.client import ModelRegistryClient\n",
    "\n",
    "client = ModelRegistryClient()\n",
    "await client.register_model(\"my-new-notebook-model\", os.path.join(sys.path[0], \"example-file.txt\"))"
   ]
  }
 ],
 "metadata": {
  "kernelspec": {
   "display_name": "Python 3 (ipykernel)",
   "language": "python",
   "name": "python3"
  },
  "language_info": {
   "codemirror_mode": {
    "name": "ipython",
    "version": 3
   },
   "file_extension": ".py",
   "mimetype": "text/x-python",
   "name": "python",
   "nbconvert_exporter": "python",
   "pygments_lexer": "ipython3",
   "version": "3.11.2"
  }
 },
 "nbformat": 4,
 "nbformat_minor": 5
}
